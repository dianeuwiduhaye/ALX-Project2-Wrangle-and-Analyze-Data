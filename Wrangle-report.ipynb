{
 "cells": [
  {
   "cell_type": "markdown",
   "id": "72c1d2de",
   "metadata": {},
   "source": [
    "## WeRateDogs Twitter Data Project"
   ]
  },
  {
   "cell_type": "markdown",
   "id": "58de5785",
   "metadata": {},
   "source": [
    "\n",
    "1.\tAfter reading the instructions of the project at Udacity, I started with gathering the data.\n",
    "*\tI directly downloaded the twitter archive data called twitter_archive_enhanced.csv and loaded it in adataframe called df1.\n",
    "*\tI programmatically gathered the image predictions data  using the python requests library, the file was in tsv format and I loaded it in a dataframe called df2.\n",
    "*\tLastly, I created the twitter developers account and gathered the data which I saved in a file called tweet-json.txt. I then loaded that file in a dataframe and named it df3.\n",
    "2.\tAfter gathering the data I then made a copy of the dataframes. Starting form df1, it was changed to df1_copy, df2 was changed to df2_copy and df3 was changed to df3_copy.\n",
    "*\tDataframe 1: Which is df1_copy contains the twitter_archive_enhanced.csv dataset, it gives the basic information of the data such as the tweet_Id, name, etc...\n",
    "*\tDataframe 2:  Which is df2_copy contains the image_predictions.tsv dataset, it gived basic information on the dogg images predictions.\n",
    "*\tDataframe 3:  Which is df3_copy contains the tweet-json.txt, it gives the basic information on the data from the twitter api such as retweet counts, favorite_counts, etc,...\n",
    "3.\tAfter I visually and programmatically assesed the data, I identified up to 8 quality issues and 2 tidiness issues which includes;\n",
    "\n",
    "\n",
    "\n",
    "\n"
   ]
  },
  {
   "cell_type": "markdown",
   "id": "11681f88",
   "metadata": {},
   "source": [
    "#### Quality Issues:"
   ]
  },
  {
   "cell_type": "markdown",
   "id": "412111f6",
   "metadata": {},
   "source": [
    "\n",
    "* Many missing values in columns: in_reply_to_status_id, in_reply_to_user_id, retweeted_status_id, retweeted_status_user_id, and retweeted_status_timestamp and columns that contain data which is not useful in our Analysis such as Retweets.\n",
    "*  Incorrect datatypes on the ratings columns specifically the rating denominator.\n",
    "*  Correcting some unusual names of dogs such as None, a, an, the.\n",
    "*  Consistency in lower case and upper case naming on records in columns p1, p2, and p3.\n",
    "*  There are incorrect data types, tweet_id column is supposed to be a str, timestamp column is supposed to be datetime datatype.\n",
    "*  Wrong values on rating_denominator column different of 10.\n",
    "*  Outliers on reating_numerator which seems incorrect.\n",
    "*  Rating denominator and reating numerator can be one columns"
   ]
  },
  {
   "cell_type": "markdown",
   "id": "ee54a337",
   "metadata": {},
   "source": [
    "#### Tidiness issues"
   ]
  },
  {
   "cell_type": "markdown",
   "id": "2c320948",
   "metadata": {},
   "source": [
    "\n",
    "* Correcting the issue with the dog stages and change the four columns which are  doggo, floofer, pupper,puppo into one columns\n",
    "* The tweet_id is duplicated in all three tables which means that they can be converted into one table.I the cleaned the data in regards to the identified issues."
   ]
  },
  {
   "cell_type": "markdown",
   "id": "248e1b7c",
   "metadata": {},
   "source": [
    "4.\tI stored clean data in a new csv file called twitter_archive_master.csv for future use.\n",
    "\n",
    "5.\tI analysed the data and produced up to 2 visualizations and 3 insights."
   ]
  },
  {
   "cell_type": "code",
   "execution_count": null,
   "id": "07613f64",
   "metadata": {},
   "outputs": [],
   "source": []
  }
 ],
 "metadata": {
  "kernelspec": {
   "display_name": "Python 3 (ipykernel)",
   "language": "python",
   "name": "python3"
  },
  "language_info": {
   "codemirror_mode": {
    "name": "ipython",
    "version": 3
   },
   "file_extension": ".py",
   "mimetype": "text/x-python",
   "name": "python",
   "nbconvert_exporter": "python",
   "pygments_lexer": "ipython3",
   "version": "3.9.12"
  }
 },
 "nbformat": 4,
 "nbformat_minor": 5
}
